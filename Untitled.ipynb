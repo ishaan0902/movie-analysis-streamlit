{
 "cells": [
  {
   "cell_type": "code",
   "execution_count": 1,
   "metadata": {},
   "outputs": [],
   "source": [
    "import numpy as np\n",
    "import pandas as pd\n",
    "import warnings \n",
    "\n",
    "df_test = pd.read_csv('datasets/Sentiment/Test.csv')"
   ]
  },
  {
   "cell_type": "code",
   "execution_count": 3,
   "metadata": {},
   "outputs": [],
   "source": [
    "from joblib import dump, load"
   ]
  },
  {
   "cell_type": "code",
   "execution_count": 6,
   "metadata": {},
   "outputs": [],
   "source": [
    "from text_p import text_processing"
   ]
  },
  {
   "cell_type": "code",
   "execution_count": 7,
   "metadata": {},
   "outputs": [],
   "source": [
    "model = load('sentiment_analysis.joblib')"
   ]
  },
  {
   "cell_type": "code",
   "execution_count": 8,
   "metadata": {},
   "outputs": [
    {
     "data": {
      "text/plain": [
       "array([0], dtype=int64)"
      ]
     },
     "execution_count": 8,
     "metadata": {},
     "output_type": "execute_result"
    }
   ],
   "source": [
    "model.predict([\n",
    "    \"It's a Road Runner cartoon masquerading as a movie. Cars crash off mountainsides. Cars smash through not one but three\\\n",
    "    skyscrapers, and keep going. Cars get riddled with bullets fired at high speed from point-blank range. Cars get crushed\\\n",
    "    by collapsing multi-storey car-parks.And what happens to the drivers of these cars? They get out, brush themselves off,\\\n",
    "    grunt something barely intelligible and move on to the next moment of mindless mayhem. In another car.Not since Wile E.\\\n",
    "    Coyote last dusted himself off at the bottom of a canyon, only for a boulder to land on his head and pulverise him (only\\\n",
    "    for him re-emerge seconds later with an ACME missile in hand), has a non-superhero screen character survived such a\\\n",
    "    litany of unsurvivable moments. Of course the fans will say that's all part of its charm. Magic charm, more like.\\\n",
    "    It's utterly ridiculous hogwash and I simply will not stand for it (and not only because the rev-heads in the seats\\\n",
    "    behind me look like they might get furious, fast, if I don't sit down).\",\n",
    "])"
   ]
  },
  {
   "cell_type": "code",
   "execution_count": null,
   "metadata": {},
   "outputs": [],
   "source": []
  }
 ],
 "metadata": {
  "kernelspec": {
   "display_name": "Python 3",
   "language": "python",
   "name": "python3"
  },
  "language_info": {
   "codemirror_mode": {
    "name": "ipython",
    "version": 3
   },
   "file_extension": ".py",
   "mimetype": "text/x-python",
   "name": "python",
   "nbconvert_exporter": "python",
   "pygments_lexer": "ipython3",
   "version": "3.8.3"
  }
 },
 "nbformat": 4,
 "nbformat_minor": 4
}
